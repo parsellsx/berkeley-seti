{
 "cells": [
  {
   "cell_type": "code",
   "execution_count": 1,
   "id": "b21c9549",
   "metadata": {},
   "outputs": [],
   "source": [
    "import numpy as np\n",
    "import matplotlib.pyplot as plt\n",
    "import pandas as pd\n",
    "import os\n",
    "import time\n",
    "import itertools\n",
    "import wandb\n",
    "import pickle\n",
    "import scipy\n",
    "from cesium import featurize\n",
    "from sklearn import svm\n",
    "from sklearn.preprocessing import StandardScaler\n",
    "from sklearn.pipeline import make_pipeline\n",
    "from sklearn.model_selection import train_test_split\n",
    "from sklearn.metrics import accuracy_score,precision_score,confusion_matrix,recall_score,roc_curve,plot_roc_curve,make_scorer,average_precision_score,roc_auc_score,plot_precision_recall_curve,f1_score,plot_confusion_matrix\n",
    "from sklearn.model_selection import GridSearchCV,RandomizedSearchCV\n",
    "from sklearn.ensemble import RandomForestClassifier\n",
    "from sklearn.neighbors import KNeighborsClassifier\n",
    "from skopt import BayesSearchCV"
   ]
  },
  {
   "cell_type": "markdown",
   "id": "bedae43d",
   "metadata": {},
   "source": [
    "## Fine-Tuning Hyperparameters on Sector 14 EB Data\n",
    "In this notebook I am going to set up a few hyperparameter searches (probably using GridSearchCV(), RandomizedSearchCV(), or BayesSearchCV() (that last one is from scikit-optimize). This is to explore some promising regions of parameter space that I haven't checked out yet. I'll let the searches run in the background on this machine (aparsells-sweep) while I do other things on aparsells-test2. \n",
    "\n",
    "I don't think there's any reason to do this on the data that still has the long-period EBs in it since the performance only went up when I removed them. So let me start by reading in the data that has the long-period EBs removed. "
   ]
  },
  {
   "cell_type": "code",
   "execution_count": 2,
   "id": "6844bd07",
   "metadata": {},
   "outputs": [
    {
     "name": "stderr",
     "output_type": "stream",
     "text": [
      "\u001b[34m\u001b[1mwandb\u001b[0m: Currently logged in as: \u001b[33mparsellsx\u001b[0m (use `wandb login --relogin` to force relogin)\n"
     ]
    },
    {
     "data": {
      "text/plain": [
       "True"
      ]
     },
     "execution_count": 2,
     "metadata": {},
     "output_type": "execute_result"
    }
   ],
   "source": [
    "wandb.login()"
   ]
  },
  {
   "cell_type": "code",
   "execution_count": 3,
   "id": "84725bce",
   "metadata": {},
   "outputs": [],
   "source": [
    "# Read in final_input_df and fset for short-period data\n",
    "final_input_df_short_period = pd.read_pickle('sector_14_final_input_df_short_period_8-2-21.zip')\n",
    "fset_short_period = pd.read_pickle('sector_14_fset_short_period_8-2-21.zip')"
   ]
  },
  {
   "cell_type": "code",
   "execution_count": 4,
   "id": "f062b6c1",
   "metadata": {},
   "outputs": [],
   "source": [
    "# Split into train and test data\n",
    "X_train_short_period, X_test_short_period, y_train_short_period, y_test_short_period = train_test_split(\n",
    "    fset_short_period,final_input_df_short_period['label'],train_size=0.5,random_state=2)"
   ]
  },
  {
   "cell_type": "code",
   "execution_count": 5,
   "id": "d6cf02e5",
   "metadata": {},
   "outputs": [
    {
     "data": {
      "text/plain": [
       "833"
      ]
     },
     "execution_count": 5,
     "metadata": {},
     "output_type": "execute_result"
    }
   ],
   "source": [
    "# Check and make sure there's a reasonable balance of EBs to non-EBs in each - recall 1700 EBs total\n",
    "np.where(y_test_short_period == 'EB')[0].size # 833/1700 in the test is reasonable"
   ]
  },
  {
   "cell_type": "code",
   "execution_count": 11,
   "id": "4d1c0702",
   "metadata": {},
   "outputs": [
    {
     "name": "stdout",
     "output_type": "stream",
     "text": [
      "Fitting 5 folds for each of 300 candidates, totalling 1500 fits\n",
      "Accuracy: 0.845945945945946\n",
      "Precision: 0.9176829268292683\n",
      "Recall: 0.7226890756302521\n",
      "F1-score: 0.8085963734049698\n",
      "AUC (ROC): 0.9031966769008488\n"
     ]
    },
    {
     "data": {
      "text/html": [
       "\n",
       "                Tracking run with wandb version 0.11.2<br/>\n",
       "                Syncing run <strong style=\"color:#cdcd00\">svc_gridcv_short_period_2</strong> to <a href=\"https://wandb.ai\" target=\"_blank\">Weights & Biases</a> <a href=\"https://docs.wandb.com/integrations/jupyter.html\" target=\"_blank\">(Documentation)</a>.<br/>\n",
       "                Project page: <a href=\"https://wandb.ai/parsellsx/tess\" target=\"_blank\">https://wandb.ai/parsellsx/tess</a><br/>\n",
       "                Run page: <a href=\"https://wandb.ai/parsellsx/tess/runs/boogoaz1\" target=\"_blank\">https://wandb.ai/parsellsx/tess/runs/boogoaz1</a><br/>\n",
       "                Run data is saved locally in <code>/home/parsellsx/berkeley-seti/wandb/run-20210805_184806-boogoaz1</code><br/><br/>\n",
       "            "
      ],
      "text/plain": [
       "<IPython.core.display.HTML object>"
      ]
     },
     "metadata": {},
     "output_type": "display_data"
    },
    {
     "data": {
      "text/html": [
       "<br/>Waiting for W&B process to finish, PID 6392<br/>Program ended successfully."
      ],
      "text/plain": [
       "<IPython.core.display.HTML object>"
      ]
     },
     "metadata": {},
     "output_type": "display_data"
    },
    {
     "data": {
      "application/vnd.jupyter.widget-view+json": {
       "model_id": "",
       "version_major": 2,
       "version_minor": 0
      },
      "text/plain": [
       "VBox(children=(Label(value=' 0.00MB of 0.02MB uploaded (0.00MB deduped)\\r'), FloatProgress(value=0.0, max=1.0)…"
      ]
     },
     "metadata": {},
     "output_type": "display_data"
    },
    {
     "data": {
      "text/html": [
       "Find user logs for this run at: <code>/home/parsellsx/berkeley-seti/wandb/run-20210805_184806-boogoaz1/logs/debug.log</code>"
      ],
      "text/plain": [
       "<IPython.core.display.HTML object>"
      ]
     },
     "metadata": {},
     "output_type": "display_data"
    },
    {
     "data": {
      "text/html": [
       "Find internal logs for this run at: <code>/home/parsellsx/berkeley-seti/wandb/run-20210805_184806-boogoaz1/logs/debug-internal.log</code>"
      ],
      "text/plain": [
       "<IPython.core.display.HTML object>"
      ]
     },
     "metadata": {},
     "output_type": "display_data"
    },
    {
     "data": {
      "text/html": [
       "<h3>Run summary:</h3><br/><style>\n",
       "    table.wandb td:nth-child(1) { padding: 0 10px; text-align: right }\n",
       "    </style><table class=\"wandb\">\n",
       "<tr><td>accuracy</td><td>0.84595</td></tr><tr><td>precision</td><td>0.91768</td></tr><tr><td>recall</td><td>0.72269</td></tr><tr><td>f1_score</td><td>0.8086</td></tr><tr><td>auc</td><td>0.9032</td></tr><tr><td>_runtime</td><td>6</td></tr><tr><td>_timestamp</td><td>1628189292</td></tr><tr><td>_step</td><td>0</td></tr></table>"
      ],
      "text/plain": [
       "<IPython.core.display.HTML object>"
      ]
     },
     "metadata": {},
     "output_type": "display_data"
    },
    {
     "data": {
      "text/html": [
       "<h3>Run history:</h3><br/><style>\n",
       "    table.wandb td:nth-child(1) { padding: 0 10px; text-align: right }\n",
       "    </style><table class=\"wandb\">\n",
       "<tr><td>accuracy</td><td>▁</td></tr><tr><td>precision</td><td>▁</td></tr><tr><td>recall</td><td>▁</td></tr><tr><td>f1_score</td><td>▁</td></tr><tr><td>auc</td><td>▁</td></tr><tr><td>_runtime</td><td>▁</td></tr><tr><td>_timestamp</td><td>▁</td></tr><tr><td>_step</td><td>▁</td></tr></table><br/>"
      ],
      "text/plain": [
       "<IPython.core.display.HTML object>"
      ]
     },
     "metadata": {},
     "output_type": "display_data"
    },
    {
     "data": {
      "text/html": [
       "Synced 5 W&B file(s), 2 media file(s), 0 artifact file(s) and 0 other file(s)"
      ],
      "text/plain": [
       "<IPython.core.display.HTML object>"
      ]
     },
     "metadata": {},
     "output_type": "display_data"
    },
    {
     "data": {
      "text/html": [
       "\n",
       "                    <br/>Synced <strong style=\"color:#cdcd00\">svc_gridcv_short_period_2</strong>: <a href=\"https://wandb.ai/parsellsx/tess/runs/boogoaz1\" target=\"_blank\">https://wandb.ai/parsellsx/tess/runs/boogoaz1</a><br/>\n",
       "                "
      ],
      "text/plain": [
       "<IPython.core.display.HTML object>"
      ]
     },
     "metadata": {},
     "output_type": "display_data"
    },
    {
     "data": {
      "image/png": "[encoded data removed]",
      "text/plain": [
       "<Figure size 432x288 with 2 Axes>"
      ]
     },
     "metadata": {
      "needs_background": "light"
     },
     "output_type": "display_data"
    },
    {
     "data": {
      "image/png": "[encoded data removed]",
      "text/plain": [
       "<Figure size 432x288 with 1 Axes>"
      ]
     },
     "metadata": {
      "needs_background": "light"
     },
     "output_type": "display_data"
    }
   ],
   "source": [
    "# SVC\n",
    "pipeline = make_pipeline(StandardScaler(),svm.SVC(probability=True,random_state=11)) # prob=True for auc in func. \n",
    "# After looking at the accuracy for different hyperparameter combinations on the test-sweep-3 run of W&B (that was\n",
    "# the one where I recorded every run for the SVC), looks like any value of C under 0.09 is probably a waste of\n",
    "# time. But even up to 25 there are decent values, so I'll sample more in the 0.1 to 30 or so region\n",
    "# kernel doesn't seem to be too influential\n",
    "# gamma doesn't seem to be influential at all - I'm going to just stick to the default, which is 'scale'\n",
    "# tol doesn't really seem to be influential at all, and that's supported by W&B's automatic \"importance\". I am\n",
    "# going to keep the default parameter (1e-3), get rid of the rest, and add 2 new ones just to try them out\n",
    "# I'm also going to add the 'degree' parameter, which only applies to the runs where kernel='poly'\n",
    "# Also adding class_weight - trying both default (every class is weighted equally) or 'balanced' (weight them\n",
    "# based on their frequency in the data)\n",
    "# Don't forget to put all the same hyperparameters in all dictionaries in hypers\n",
    "hypers = [{'svc__C':[0.1,0.5,1,2,3,5,8,10,25,30], # 1st grid\n",
    "          'svc__kernel':['rbf','sigmoid'],\n",
    "          'svc__degree':[3],\n",
    "          'svc__gamma':['scale'],\n",
    "          'svc__tol':[1e-5,1e-3,1e-1],\n",
    "          'svc__class_weight':['balanced',None]},\n",
    "          {'svc__C':[0.1,0.5,1,2,3,5,8,10,25,30], # 2nd grid\n",
    "          'svc__kernel':['poly'],\n",
    "          'svc__degree':[2,3,4],\n",
    "          'svc__gamma':['scale'],\n",
    "          'svc__tol':[1e-5,1e-3,1e-1],\n",
    "          'svc__class_weight':['balanced',None]}]\n",
    "cv_scoring = {'accuracy': make_scorer(accuracy_score),\n",
    "              'precision': make_scorer(precision_score,pos_label='EB'),\n",
    "              'recall': make_scorer(recall_score,pos_label='EB'),\n",
    "              'auc': 'roc_auc'}\n",
    "run_name = 'svc_gridcv_short_period_2'\n",
    "# Actually do the run\n",
    "grid_cv_with_wandb(pipeline,hypers,cv_scoring,run_name,X_train_short_period,X_test_short_period,\n",
    "                   y_train_short_period,y_test_short_period) # Here refit = 'accuracy' (default)"
   ]
  },
  {
   "cell_type": "code",
   "execution_count": null,
   "id": "6c8a0bf0",
   "metadata": {},
   "outputs": [
    {
     "name": "stdout",
     "output_type": "stream",
     "text": [
      "Fitting 5 folds for each of 48000 candidates, totalling 240000 fits\n"
     ]
    }
   ],
   "source": [
    "# Random forest - started 1:14 pm 8/5/21\n",
    "pipeline = make_pipeline(StandardScaler(),RandomForestClassifier(n_jobs=-1,random_state=104))\n",
    "rfc = 'randomforestclassifier__'\n",
    "# Changing n_estimators to 1200 to explore a little more space - seems like more is generally better\n",
    "# criterion I'm changing to just one option (the default; 'gini') because it seems to have no effect on accuracy\n",
    "# max_depth I'm adding in 25 and getting rid of 3 and 5 based on performance\n",
    "# min_samples_split I'm adding in a few more and getting rid of 50 (that was too many)\n",
    "# max_features I'm adding in some numbers (these are integer numbers of features to look at). Got rid of 'sqrt'\n",
    "# since that would be about 5 with the 29 features I'm using\n",
    "# Added min_samples_leaf, class_weight with some values to try\n",
    "hypers = [{rfc + 'n_estimators': [1200], # 1st grid\n",
    "          rfc + 'criterion': ['gini'],\n",
    "          rfc + 'max_depth': [10,25,50,None],\n",
    "          rfc + 'min_samples_split': [2,5,7,10,15],\n",
    "          rfc + 'max_features': [3,5,15,20,None],\n",
    "          rfc + 'min_samples_leaf': [1,3,10,40],\n",
    "          rfc + 'class_weight': ['balanced',None],\n",
    "          rfc + 'ccp_alpha': [0,0.002,0.005,0.02],\n",
    "          rfc + 'max_samples': [50,200,500,None],\n",
    "          rfc + 'max_leaf_nodes': [5,10,None],\n",
    "          rfc + 'bootstrap': [True]},\n",
    "          {rfc + 'n_estimators': [1200], # 2nd grid\n",
    "          rfc + 'criterion': ['gini'],\n",
    "          rfc + 'max_depth': [10,25,50,None],\n",
    "          rfc + 'min_samples_split': [2,5,7,10,15],\n",
    "          rfc + 'max_features': [3,5,15,20,None],\n",
    "          rfc + 'min_samples_leaf': [1,3,10,40],\n",
    "          rfc + 'class_weight': ['balanced',None],\n",
    "          rfc + 'ccp_alpha': [0,0.002,0.005,0.02],\n",
    "          rfc + 'max_samples': [None], # When bootstrap=False, max_samples is irrelevant\n",
    "          rfc + 'max_leaf_nodes': [5,10,None],\n",
    "          rfc + 'bootstrap': [False]}]\n",
    "cv_scoring = {'accuracy': make_scorer(accuracy_score),\n",
    "              'precision': make_scorer(precision_score,pos_label='EB'),\n",
    "              'recall': make_scorer(recall_score,pos_label='EB'),\n",
    "              'auc': 'roc_auc'}\n",
    "run_name = 'rf_gridcv_short_period_2'\n",
    "# Actually do the run\n",
    "grid_cv_with_wandb(pipeline,hypers,cv_scoring,run_name,X_train_short_period,X_test_short_period,\n",
    "                   y_train_short_period,y_test_short_period) # Here refit = 'accuracy' (default)"
   ]
  },
  {
   "cell_type": "markdown",
   "id": "06685158",
   "metadata": {},
   "source": [
    "Abort, abort! 48,000 hyperparameter combinations in a grid search will take way too long - I think this would be better served by a RandomizedSearchCV(). Let me try making one - my first! \n",
    "\n",
    "Apparently you can give the hyperparameters to a RandomizedSearchCV() instance either in the form of discrete sets of hyperparameters (like you do with the GridSearchCV()) or in the form of distributions to sample from (e.g., scipy.stats.expon/gamma/uniform/randint or sklearn.utils.fixes.loguniform). The way providing multiple dictionaries in a list to RandomizedSearchCV() works is that every time it takes a random sample of hyperparameters to try, first it randomly chooses which dictionary to sample from, then it samples from the hyperparameter lists or distributions specified in that dictionary."
   ]
  },
  {
   "cell_type": "code",
   "execution_count": 9,
   "id": "bb3d56d5",
   "metadata": {},
   "outputs": [
    {
     "name": "stdout",
     "output_type": "stream",
     "text": [
      "Fitting 5 folds for each of 300 candidates, totalling 1500 fits\n",
      "Accuracy: 0.8475675675675676\n",
      "Precision: 0.894134477825465\n",
      "Recall: 0.7503001200480192\n",
      "F1-score: 0.8159268929503916\n",
      "AUC (ROC): 0.9143220710112954\n"
     ]
    },
    {
     "data": {
      "text/html": [
       "\n",
       "                Tracking run with wandb version 0.11.2<br/>\n",
       "                Syncing run <strong style=\"color:#cdcd00\">rf_randomcv_short_period_1</strong> to <a href=\"https://wandb.ai\" target=\"_blank\">Weights & Biases</a> <a href=\"https://docs.wandb.com/integrations/jupyter.html\" target=\"_blank\">(Documentation)</a>.<br/>\n",
       "                Project page: <a href=\"https://wandb.ai/parsellsx/tess\" target=\"_blank\">https://wandb.ai/parsellsx/tess</a><br/>\n",
       "                Run page: <a href=\"https://wandb.ai/parsellsx/tess/runs/3uc1bqod\" target=\"_blank\">https://wandb.ai/parsellsx/tess/runs/3uc1bqod</a><br/>\n",
       "                Run data is saved locally in <code>/home/parsellsx/berkeley-seti/wandb/run-20210810_124051-3uc1bqod</code><br/><br/>\n",
       "            "
      ],
      "text/plain": [
       "<IPython.core.display.HTML object>"
      ]
     },
     "metadata": {},
     "output_type": "display_data"
    },
    {
     "data": {
      "text/html": [
       "<br/>Waiting for W&B process to finish, PID 8095<br/>Program ended successfully."
      ],
      "text/plain": [
       "<IPython.core.display.HTML object>"
      ]
     },
     "metadata": {},
     "output_type": "display_data"
    },
    {
     "data": {
      "application/vnd.jupyter.widget-view+json": {
       "model_id": "",
       "version_major": 2,
       "version_minor": 0
      },
      "text/plain": [
       "VBox(children=(Label(value=' 0.00MB of 0.02MB uploaded (0.00MB deduped)\\r'), FloatProgress(value=0.0, max=1.0)…"
      ]
     },
     "metadata": {},
     "output_type": "display_data"
    },
    {
     "data": {
      "text/html": [
       "Find user logs for this run at: <code>/home/parsellsx/berkeley-seti/wandb/run-20210810_124051-3uc1bqod/logs/debug.log</code>"
      ],
      "text/plain": [
       "<IPython.core.display.HTML object>"
      ]
     },
     "metadata": {},
     "output_type": "display_data"
    },
    {
     "data": {
      "text/html": [
       "Find internal logs for this run at: <code>/home/parsellsx/berkeley-seti/wandb/run-20210810_124051-3uc1bqod/logs/debug-internal.log</code>"
      ],
      "text/plain": [
       "<IPython.core.display.HTML object>"
      ]
     },
     "metadata": {},
     "output_type": "display_data"
    },
    {
     "data": {
      "text/html": [
       "<h3>Run summary:</h3><br/><style>\n",
       "    table.wandb td:nth-child(1) { padding: 0 10px; text-align: right }\n",
       "    </style><table class=\"wandb\">\n",
       "<tr><td>accuracy</td><td>0.84757</td></tr><tr><td>precision</td><td>0.89413</td></tr><tr><td>recall</td><td>0.7503</td></tr><tr><td>f1_score</td><td>0.81593</td></tr><tr><td>auc</td><td>0.91432</td></tr><tr><td>_runtime</td><td>6</td></tr><tr><td>_timestamp</td><td>1628599257</td></tr><tr><td>_step</td><td>0</td></tr></table>"
      ],
      "text/plain": [
       "<IPython.core.display.HTML object>"
      ]
     },
     "metadata": {},
     "output_type": "display_data"
    },
    {
     "data": {
      "text/html": [
       "<h3>Run history:</h3><br/><style>\n",
       "    table.wandb td:nth-child(1) { padding: 0 10px; text-align: right }\n",
       "    </style><table class=\"wandb\">\n",
       "<tr><td>accuracy</td><td>▁</td></tr><tr><td>precision</td><td>▁</td></tr><tr><td>recall</td><td>▁</td></tr><tr><td>f1_score</td><td>▁</td></tr><tr><td>auc</td><td>▁</td></tr><tr><td>_runtime</td><td>▁</td></tr><tr><td>_timestamp</td><td>▁</td></tr><tr><td>_step</td><td>▁</td></tr></table><br/>"
      ],
      "text/plain": [
       "<IPython.core.display.HTML object>"
      ]
     },
     "metadata": {},
     "output_type": "display_data"
    },
    {
     "data": {
      "text/html": [
       "Synced 5 W&B file(s), 2 media file(s), 0 artifact file(s) and 0 other file(s)"
      ],
      "text/plain": [
       "<IPython.core.display.HTML object>"
      ]
     },
     "metadata": {},
     "output_type": "display_data"
    },
    {
     "data": {
      "text/html": [
       "\n",
       "                    <br/>Synced <strong style=\"color:#cdcd00\">rf_randomcv_short_period_1</strong>: <a href=\"https://wandb.ai/parsellsx/tess/runs/3uc1bqod\" target=\"_blank\">https://wandb.ai/parsellsx/tess/runs/3uc1bqod</a><br/>\n",
       "                "
      ],
      "text/plain": [
       "<IPython.core.display.HTML object>"
      ]
     },
     "metadata": {},
     "output_type": "display_data"
    },
    {
     "data": {
      "image/png": "[encoded data removed]",
      "text/plain": [
       "<Figure size 432x288 with 2 Axes>"
      ]
     },
     "metadata": {
      "needs_background": "light"
     },
     "output_type": "display_data"
    },
    {
     "data": {
      "image/png": "[encoded data removed]",
      "text/plain": [
       "<Figure size 432x288 with 1 Axes>"
      ]
     },
     "metadata": {
      "needs_background": "light"
     },
     "output_type": "display_data"
    }
   ],
   "source": [
    "# Random forest RandomizedSearchCV()\n",
    "pipeline = make_pipeline(StandardScaler(),RandomForestClassifier(n_jobs=-1,random_state=104))\n",
    "rfc = 'randomforestclassifier__'\n",
    "# \"It is highly recommended to use continuous distributions for continuous parameters.\" - sklearn documentation\n",
    "# Which of these hyperparameters are continuous? min_samples_split*, min_samples_leaf*, max_features*, ccp_alpha,\n",
    "# max_samples*\n",
    "# *When given as a float/fraction\n",
    "# Looks like you can also use scipy.stats.randint for parameters that are integers\n",
    "# I'll give a distribution for max_features: from 2 to 29 features, or from 0.06896 to 1, I want a uniform \n",
    "# distribution between these two numbers\n",
    "hypers = [{rfc + 'n_estimators': [700,1200], # 1st grid\n",
    "          rfc + 'criterion': ['gini','entropy'],\n",
    "          rfc + 'max_depth': [10,25,50,None],\n",
    "          rfc + 'min_samples_split': scipy.stats.randint(2,16),\n",
    "          rfc + 'max_features': scipy.stats.uniform(loc=0.06896,scale=0.93104), # Generate uniform [0.06896,1]\n",
    "          rfc + 'min_samples_leaf': scipy.stats.randint(1,41),\n",
    "          rfc + 'class_weight': ['balanced','balanced_subsample',None],\n",
    "          rfc + 'ccp_alpha': scipy.stats.uniform(loc=0,scale=0.25),\n",
    "          rfc + 'max_samples': [100,900,None],\n",
    "          rfc + 'max_leaf_nodes': [5,10,None],\n",
    "          rfc + 'bootstrap': [True]},\n",
    "          {rfc + 'n_estimators': [700,1200], # 2nd grid\n",
    "          rfc + 'criterion': ['gini','entropy'],\n",
    "          rfc + 'max_depth': [10,25,50,None],\n",
    "          rfc + 'min_samples_split': scipy.stats.randint(2,16),\n",
    "          rfc + 'max_features': scipy.stats.uniform(loc=0.06896,scale=0.93104),\n",
    "          rfc + 'min_samples_leaf': scipy.stats.randint(1,41),\n",
    "          rfc + 'class_weight': ['balanced','balanced_subsample',None],\n",
    "          rfc + 'ccp_alpha': scipy.stats.uniform(loc=0,scale=0.25),\n",
    "          rfc + 'max_samples': [None], # When bootstrap=False, max_samples is irrelevant\n",
    "          rfc + 'max_leaf_nodes': [5,10,None],\n",
    "          rfc + 'bootstrap': [False]}]\n",
    "cv_scoring = {'accuracy': make_scorer(accuracy_score),\n",
    "              'precision': make_scorer(precision_score,pos_label='EB'),\n",
    "              'recall': make_scorer(recall_score,pos_label='EB'),\n",
    "              'auc': 'roc_auc'}\n",
    "run_name = 'rf_randomcv_short_period_1'\n",
    "# Actually do the run\n",
    "random_cv_with_wandb(pipeline,hypers,cv_scoring,run_name,X_train_short_period,X_test_short_period,\n",
    "                   y_train_short_period,y_test_short_period,random_state=18,n_iter=300)"
   ]
  },
  {
   "cell_type": "code",
   "execution_count": 10,
   "id": "266d67c6",
   "metadata": {},
   "outputs": [
    {
     "name": "stdout",
     "output_type": "stream",
     "text": [
      "Fitting 5 folds for each of 300 candidates, totalling 1500 fits\n",
      "Accuracy: 0.84\n",
      "Precision: 0.8683127572016461\n",
      "Recall: 0.7599039615846338\n",
      "F1-score: 0.8104993597951344\n",
      "AUC (ROC): 0.9080369610971233\n"
     ]
    },
    {
     "data": {
      "text/html": [
       "\n",
       "                Tracking run with wandb version 0.11.2<br/>\n",
       "                Syncing run <strong style=\"color:#cdcd00\">kneigh_randomcv_short_period_1</strong> to <a href=\"https://wandb.ai\" target=\"_blank\">Weights & Biases</a> <a href=\"https://docs.wandb.com/integrations/jupyter.html\" target=\"_blank\">(Documentation)</a>.<br/>\n",
       "                Project page: <a href=\"https://wandb.ai/parsellsx/tess\" target=\"_blank\">https://wandb.ai/parsellsx/tess</a><br/>\n",
       "                Run page: <a href=\"https://wandb.ai/parsellsx/tess/runs/2wsb3ieg\" target=\"_blank\">https://wandb.ai/parsellsx/tess/runs/2wsb3ieg</a><br/>\n",
       "                Run data is saved locally in <code>/home/parsellsx/berkeley-seti/wandb/run-20210810_124728-2wsb3ieg</code><br/><br/>\n",
       "            "
      ],
      "text/plain": [
       "<IPython.core.display.HTML object>"
      ]
     },
     "metadata": {},
     "output_type": "display_data"
    },
    {
     "data": {
      "text/html": [
       "<br/>Waiting for W&B process to finish, PID 8166<br/>Program ended successfully."
      ],
      "text/plain": [
       "<IPython.core.display.HTML object>"
      ]
     },
     "metadata": {},
     "output_type": "display_data"
    },
    {
     "data": {
      "application/vnd.jupyter.widget-view+json": {
       "model_id": "",
       "version_major": 2,
       "version_minor": 0
      },
      "text/plain": [
       "VBox(children=(Label(value=' 0.02MB of 0.02MB uploaded (0.00MB deduped)\\r'), FloatProgress(value=1.0, max=1.0)…"
      ]
     },
     "metadata": {},
     "output_type": "display_data"
    },
    {
     "data": {
      "text/html": [
       "Find user logs for this run at: <code>/home/parsellsx/berkeley-seti/wandb/run-20210810_124728-2wsb3ieg/logs/debug.log</code>"
      ],
      "text/plain": [
       "<IPython.core.display.HTML object>"
      ]
     },
     "metadata": {},
     "output_type": "display_data"
    },
    {
     "data": {
      "text/html": [
       "Find internal logs for this run at: <code>/home/parsellsx/berkeley-seti/wandb/run-20210810_124728-2wsb3ieg/logs/debug-internal.log</code>"
      ],
      "text/plain": [
       "<IPython.core.display.HTML object>"
      ]
     },
     "metadata": {},
     "output_type": "display_data"
    },
    {
     "data": {
      "text/html": [
       "<h3>Run summary:</h3><br/><style>\n",
       "    table.wandb td:nth-child(1) { padding: 0 10px; text-align: right }\n",
       "    </style><table class=\"wandb\">\n",
       "<tr><td>accuracy</td><td>0.84</td></tr><tr><td>precision</td><td>0.86831</td></tr><tr><td>recall</td><td>0.7599</td></tr><tr><td>f1_score</td><td>0.8105</td></tr><tr><td>auc</td><td>0.90804</td></tr><tr><td>_runtime</td><td>6</td></tr><tr><td>_timestamp</td><td>1628599654</td></tr><tr><td>_step</td><td>0</td></tr></table>"
      ],
      "text/plain": [
       "<IPython.core.display.HTML object>"
      ]
     },
     "metadata": {},
     "output_type": "display_data"
    },
    {
     "data": {
      "text/html": [
       "<h3>Run history:</h3><br/><style>\n",
       "    table.wandb td:nth-child(1) { padding: 0 10px; text-align: right }\n",
       "    </style><table class=\"wandb\">\n",
       "<tr><td>accuracy</td><td>▁</td></tr><tr><td>precision</td><td>▁</td></tr><tr><td>recall</td><td>▁</td></tr><tr><td>f1_score</td><td>▁</td></tr><tr><td>auc</td><td>▁</td></tr><tr><td>_runtime</td><td>▁</td></tr><tr><td>_timestamp</td><td>▁</td></tr><tr><td>_step</td><td>▁</td></tr></table><br/>"
      ],
      "text/plain": [
       "<IPython.core.display.HTML object>"
      ]
     },
     "metadata": {},
     "output_type": "display_data"
    },
    {
     "data": {
      "text/html": [
       "Synced 5 W&B file(s), 2 media file(s), 0 artifact file(s) and 0 other file(s)"
      ],
      "text/plain": [
       "<IPython.core.display.HTML object>"
      ]
     },
     "metadata": {},
     "output_type": "display_data"
    },
    {
     "data": {
      "text/html": [
       "\n",
       "                    <br/>Synced <strong style=\"color:#cdcd00\">kneigh_randomcv_short_period_1</strong>: <a href=\"https://wandb.ai/parsellsx/tess/runs/2wsb3ieg\" target=\"_blank\">https://wandb.ai/parsellsx/tess/runs/2wsb3ieg</a><br/>\n",
       "                "
      ],
      "text/plain": [
       "<IPython.core.display.HTML object>"
      ]
     },
     "metadata": {},
     "output_type": "display_data"
    },
    {
     "data": {
      "image/png": "[encoded data removed]",
      "text/plain": [
       "<Figure size 432x288 with 2 Axes>"
      ]
     },
     "metadata": {
      "needs_background": "light"
     },
     "output_type": "display_data"
    },
    {
     "data": {
      "image/png": "[encoded data removed]",
      "text/plain": [
       "<Figure size 432x288 with 1 Axes>"
      ]
     },
     "metadata": {
      "needs_background": "light"
     },
     "output_type": "display_data"
    }
   ],
   "source": [
    "# K neighbors - randomized search\n",
    "pipeline = make_pipeline(StandardScaler(),KNeighborsClassifier())\n",
    "knc = 'kneighborsclassifier__'\n",
    "hypers = {knc + 'n_neighbors': scipy.stats.randint(1,21),\n",
    "          knc + 'weights': ['uniform','distance'],\n",
    "          knc + 'algorithm': ['ball_tree','kd_tree','brute','auto'],\n",
    "          knc + 'leaf_size': scipy.stats.randint(5,61), # This is an educated guess based on sk user guide 1.6.4.5\n",
    "          knc + 'p': [1,2,3,4],\n",
    "          knc + 'metric': ['euclidean','manhattan','minkowski','mahalanobis']}\n",
    "cv_scoring = {'accuracy': make_scorer(accuracy_score),\n",
    "              'precision': make_scorer(precision_score,pos_label='EB'),\n",
    "              'recall': make_scorer(recall_score,pos_label='EB'),\n",
    "              'auc': 'roc_auc'}\n",
    "run_name = 'kneigh_randomcv_short_period_1'\n",
    "# Actually do the run\n",
    "random_cv_with_wandb(pipeline,hypers,cv_scoring,run_name,X_train_short_period,X_test_short_period,\n",
    "                  y_train_short_period,y_test_short_period,random_state=21,n_iter=300) # Again refit = 'accuracy'"
   ]
  },
  {
   "cell_type": "markdown",
   "id": "0a26480c",
   "metadata": {},
   "source": [
    "### Function to Do the Model Fitting and Logging"
   ]
  },
  {
   "cell_type": "code",
   "execution_count": 7,
   "id": "26d5f2e2",
   "metadata": {},
   "outputs": [],
   "source": [
    "# pipeline should be a pre-made pipeline like make_pipeline(StandardScaler(),svm.SVC(random_state=36))\n",
    "# hypers should be a dictionary like {'svc__C':[0.001,0.009,0.01,0.09,1,5,10,25],...}\n",
    "# cv_scoring should be a dict like {'accuracy': make_scorer(accuracy_score),...}. It's the dict of all the metrics\n",
    "# I want sklearn to track for the purpose of evaluating model performance during the cross-validation\n",
    "# refit is the metric I want GridSearchCV() to use to evaluate which model is the best and is 'accuracy' by \n",
    "# default. But I can also write a function that will take in cv_results_ and return the sum of mean accuracy + \n",
    "# mean precision + mean recall and specify that function, or I could specify 'auc' to use the area under the ROC\n",
    "# curve\n",
    "# Update 8/2/21: X_train, X_test, y_train, and y_test are the train and test data, just like they sound like. I am\n",
    "# changing the function so that these now need to be passed in as arguments rather than having the function just\n",
    "# use whatever global variables named X_train, X_test, etc. already exist. So previous calls to this function in\n",
    "# this notebook might not work, but it can be easily remedied by adding those arguments in the call [end update]\n",
    "# pos_label is the data label to be used as the \"positive\" one for the purposes of computing precision, recall, \n",
    "# f1, etc. It is \"EB\" by default but can be changed for the future when I want to use multiple variable types\n",
    "# labels is all the data labels in the set - used for confusion matrix. Currently it is ['EB','Non-EB'] by default\n",
    "# but can be changed\n",
    "# run_name is for purposes of saving the confusion matrix and p-r curve plots - need a proper filename. For\n",
    "# example, 'svc_gridcv_1'. Also used in the legend for the p-r curve plot and in saving the cv_results_ df\n",
    "# df_directory is the directory in which I'll store the Pandas dataframes from CV (cv_results_)\n",
    "# Update 8/5/21: Changed the saved name of the run in W&B to be run_name (previously run_name was saved as the\n",
    "# group name in W&B) and made the group name another optional argument to this function that has default value \n",
    "# 'sector_14_ebs_short_period_only'\n",
    "def grid_cv_with_wandb(pipeline,hypers,cv_scoring,run_name,X_train,X_test,y_train,y_test,refit='accuracy',\n",
    "                       pos_label='EB',labels=['EB','Non-EB'],df_directory='sector_14_gridsearchcv_dfs',\n",
    "                       group_name='sector_14_ebs_short_period_only'):\n",
    "    grid = GridSearchCV(pipeline,hypers,scoring=cv_scoring,refit=refit,n_jobs=-1,verbose=1,error_score=0)\n",
    "    grid.fit(X_train,np.ravel(y_train)) # np.ravel flattens the array and makes it play nice with .fit()\n",
    "    y_pred = grid.predict(X_test) # Predict on the test dataset to evaluate performance of the best model\n",
    "    grid_results_df = pd.DataFrame(grid.cv_results_) # Get pandas dataframe w/ CV summary (training/validation)\n",
    "    grid_results_df.to_pickle(df_directory + '/' + run_name + '.zip')\n",
    "    # Get scores on the test data\n",
    "    accuracy = accuracy_score(y_test,y_pred)\n",
    "    precision = precision_score(y_test,y_pred,pos_label=pos_label)\n",
    "    recall = recall_score(y_test,y_pred,pos_label=pos_label)\n",
    "    f1 = f1_score(y_test,y_pred,pos_label=pos_label)\n",
    "    # roc_auc_score requires 'y_score', which apparently can be 'estimator.decision_function(X,y)' (according to \n",
    "    # https://scikit-learn.org/stable/modules/generated/sklearn.metrics.roc_auc_score.html#sklearn.metrics.roc_auc_score)\n",
    "    y_score = grid.predict_proba(X_test)[:,1] # Currently only good for binary case (2 classes, not more)\n",
    "    auc = roc_auc_score(y_test,y_score)\n",
    "    confusion_matrix_ = confusion_matrix(y_test,y_pred,labels=labels) # Add underscore to avoid assignment error\n",
    "    print('Accuracy: ' + str(accuracy) + '\\nPrecision: ' + str(precision) + '\\nRecall: ' + str(recall) + \n",
    "          '\\nF1-score: ' + str(f1) + '\\nAUC (ROC): ' + str(auc))\n",
    "    fig, ax = plt.subplots()\n",
    "    confusion_matrix_plot = plot_confusion_matrix(grid,X_test,y_test,ax=ax,labels=labels)\n",
    "    plt.savefig('sklearn_plots_for_wandb/' + run_name + '_confusion_matrix.png')\n",
    "    fig, ax = plt.subplots()\n",
    "    precision_recall_plot = plot_precision_recall_curve(grid,X_test,y_test,ax=ax,name=run_name,pos_label=pos_label)\n",
    "    plt.savefig('sklearn_plots_for_wandb/' + run_name + '_precision_recall.png')\n",
    "    # Get list of just the actual hyperparameters (without values) for use in generating W&B config\n",
    "    # Update 8/5/21: hypers might be a list of dictionaries (see description of param_grid in GridSearchCV(), so\n",
    "    # I'm adding in a check here - if it is a list, then make grid_hyperlist equal to hypers[0].keys()). Also, \n",
    "    # need to make sure that if I do pass in hypers as a list of dicts, every dict needs to have all the \n",
    "    # hyperparameters I'm varying, even if they're fixed to just one value in some of the dicts (grids). That's so\n",
    "    # that config (below) catches all the hyperparameters to log to W&B\n",
    "    if isinstance(hypers,list): # If hypers is a list\n",
    "        grid_hyperlist = list(hypers[0].keys())\n",
    "    else: # If it's not a list, it should be a dictionary\n",
    "        grid_hyperlist = list(hypers.keys()) # These still have '[estimator_type]__' in front of them - remove this:\n",
    "    double_underscore_index = grid_hyperlist[0].find('__') # Search 1st key in hypers\n",
    "    if double_underscore_index == -1: # Meaning, there's no __ in the string, which would mean I forgot to add it\n",
    "        raise Exception\n",
    "    for i, el in enumerate(grid_hyperlist):\n",
    "        new_el = el[double_underscore_index+2:] # +2 to account for the length of '__' itself\n",
    "        grid_hyperlist[i] = new_el # Now grid_hyperlist should just have the hyperparams w/o the 'svc__' or similar\n",
    "    config = {} # Will hold hyperparameters for best run in grid\n",
    "    for param in grid_hyperlist:\n",
    "        config[param] = grid.best_estimator_.steps[-1][-1].get_params()[param]\n",
    "    # Log everything to Weights & Biases\n",
    "    with wandb.init(project='tess',group=group_name,name=run_name,config=config):\n",
    "        wandb.log({'accuracy': accuracy,\n",
    "                   'precision': precision,\n",
    "                   'recall': recall,\n",
    "                   'f1_score': f1,\n",
    "                   'auc': auc,\n",
    "                   'confusion_matrix': confusion_matrix_,\n",
    "                   'confusion_matrix_plot': wandb.Image('sklearn_plots_for_wandb/' + run_name + '_confusion_matrix.png'),\n",
    "                   'precision_recall_plot': wandb.Image('sklearn_plots_for_wandb/' + run_name + '_precision_recall.png')})"
   ]
  },
  {
   "cell_type": "code",
   "execution_count": 8,
   "id": "cf6ecd37",
   "metadata": {},
   "outputs": [],
   "source": [
    "# See documentation for grid_cv_with_wandb (given above) for how this function works - it's very similar. Any \n",
    "# differences are listed below\n",
    "# n_iter is the number of samples (runs) to try - basically the number of hyperparameter combinations we try out. I\n",
    "# made it 200 by default\n",
    "# random_state is the random state to give to RandomizedSearchCV() to control the sampling of hyperparameters\n",
    "def random_cv_with_wandb(pipeline,hypers,cv_scoring,run_name,X_train,X_test,y_train,y_test,random_state,refit='accuracy',\n",
    "                       pos_label='EB',labels=['EB','Non-EB'],df_directory='sector_14_randomsearchcv_dfs',\n",
    "                       group_name='sector_14_ebs_short_period_only',n_iter=200):\n",
    "    random = RandomizedSearchCV(pipeline,hypers,n_iter=n_iter,scoring=cv_scoring,refit=refit,n_jobs=-1,verbose=1,\n",
    "                                error_score=0,random_state=random_state)\n",
    "    random.fit(X_train,np.ravel(y_train)) # np.ravel flattens the array and makes it play nice with .fit()\n",
    "    y_pred = random.predict(X_test) # Predict on the test dataset to evaluate performance of the best model\n",
    "    random_results_df = pd.DataFrame(random.cv_results_) # Get pandas dataframe w/ CV summary (training/validation)\n",
    "    random_results_df.to_pickle(df_directory + '/' + run_name + '.zip')\n",
    "    # Get scores on the test data\n",
    "    accuracy = accuracy_score(y_test,y_pred)\n",
    "    precision = precision_score(y_test,y_pred,pos_label=pos_label)\n",
    "    recall = recall_score(y_test,y_pred,pos_label=pos_label)\n",
    "    f1 = f1_score(y_test,y_pred,pos_label=pos_label)\n",
    "    # roc_auc_score requires 'y_score', which apparently can be 'estimator.decision_function(X,y)' (according to \n",
    "    # https://scikit-learn.org/stable/modules/generated/sklearn.metrics.roc_auc_score.html#sklearn.metrics.roc_auc_score)\n",
    "    y_score = random.predict_proba(X_test)[:,1] # Currently only good for binary case (2 classes, not more)\n",
    "    auc = roc_auc_score(y_test,y_score)\n",
    "    confusion_matrix_ = confusion_matrix(y_test,y_pred,labels=labels) # Add underscore to avoid assignment error\n",
    "    print('Accuracy: ' + str(accuracy) + '\\nPrecision: ' + str(precision) + '\\nRecall: ' + str(recall) + \n",
    "          '\\nF1-score: ' + str(f1) + '\\nAUC (ROC): ' + str(auc))\n",
    "    fig, ax = plt.subplots()\n",
    "    confusion_matrix_plot = plot_confusion_matrix(random,X_test,y_test,ax=ax,labels=labels)\n",
    "    plt.savefig('sklearn_plots_for_wandb/' + run_name + '_confusion_matrix.png')\n",
    "    fig, ax = plt.subplots()\n",
    "    precision_recall_plot = plot_precision_recall_curve(random,X_test,y_test,ax=ax,name=run_name,pos_label=pos_label)\n",
    "    plt.savefig('sklearn_plots_for_wandb/' + run_name + '_precision_recall.png')\n",
    "    if isinstance(hypers,list): # If hypers is a list\n",
    "        random_hyperlist = list(hypers[0].keys())\n",
    "    else: # If it's not a list, it should be a dictionary\n",
    "        random_hyperlist = list(hypers.keys()) # These still have '[estimator_type]__' in front of them - remove this:\n",
    "    double_underscore_index = random_hyperlist[0].find('__') # Search 1st key in hypers\n",
    "    if double_underscore_index == -1: # Meaning, there's no __ in the string, which would mean I forgot to add it\n",
    "        raise Exception\n",
    "    for i, el in enumerate(random_hyperlist):\n",
    "        new_el = el[double_underscore_index+2:] # +2 to account for the length of '__' itself\n",
    "        random_hyperlist[i] = new_el # Now random_hyperlist should just have the hyperparams w/o the 'svc__' or similar\n",
    "    config = {} # Will hold hyperparameters for best run in random\n",
    "    for param in random_hyperlist:\n",
    "        config[param] = random.best_estimator_.steps[-1][-1].get_params()[param]\n",
    "    # Log everything to Weights & Biases\n",
    "    with wandb.init(project='tess',group=group_name,name=run_name,config=config):\n",
    "        wandb.log({'accuracy': accuracy,\n",
    "                   'precision': precision,\n",
    "                   'recall': recall,\n",
    "                   'f1_score': f1,\n",
    "                   'auc': auc,\n",
    "                   'confusion_matrix': confusion_matrix_,\n",
    "                   'confusion_matrix_plot': wandb.Image('sklearn_plots_for_wandb/' + run_name + '_confusion_matrix.png'),\n",
    "                   'precision_recall_plot': wandb.Image('sklearn_plots_for_wandb/' + run_name + '_precision_recall.png')})"
   ]
  },
  {
   "cell_type": "code",
   "execution_count": null,
   "id": "a4b9962f",
   "metadata": {},
   "outputs": [],
   "source": []
  }
 ],
 "metadata": {
  "kernelspec": {
   "display_name": "Python 3",
   "language": "python",
   "name": "python3"
  },
  "language_info": {
   "codemirror_mode": {
    "name": "ipython",
    "version": 3
   },
   "file_extension": ".py",
   "mimetype": "text/x-python",
   "name": "python",
   "nbconvert_exporter": "python",
   "pygments_lexer": "ipython3",
   "version": "3.7.10"
  }
 },
 "nbformat": 4,
 "nbformat_minor": 5
}

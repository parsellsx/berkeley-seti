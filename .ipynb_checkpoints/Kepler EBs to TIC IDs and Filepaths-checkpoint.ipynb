{
 "cells": [
  {
   "cell_type": "code",
   "execution_count": 1,
   "id": "b63fc14a",
   "metadata": {},
   "outputs": [],
   "source": [
    "import numpy as np\n",
    "import matplotlib.pyplot as plt\n",
    "import astropy\n",
    "import pandas as pd\n",
    "import os\n",
    "import time\n",
    "import itertools\n",
    "import lightkurve\n",
    "import pickle\n",
    "from tess_stars2px import tess_stars2px_function_entry"
   ]
  },
  {
   "cell_type": "code",
   "execution_count": 2,
   "id": "84e43be6",
   "metadata": {},
   "outputs": [
    {
     "data": {
      "text/plain": [
       "256"
      ]
     },
     "execution_count": 2,
     "metadata": {},
     "output_type": "execute_result"
    }
   ],
   "source": [
    "# Mount the GCP filesystem onto this VM\n",
    "data_dir = \"/home/parsellsx/tesslcs/\"\n",
    "os.system(f\"gcsfuse --implicit-dirs tess-goddard-lcs {data_dir}\")"
   ]
  },
  {
   "cell_type": "markdown",
   "id": "8fba768d",
   "metadata": {},
   "source": [
    "## Kepler EBs to TIC IDs and GCP Filepaths\n",
    "In this notebook, I am going to try out what I talked about with Daniel, Ann Marie, and Steve in our weekly meeting on 7/6, which is taking the list of Kepler EBs (from Villanova; keplerebs.villanova.edu) and using their RA/dec to get their TIC IDs with tesspoint, then using their TIC IDs to get the filepaths to their light curves in our GCP storage bucket. Once I have the light curves, I can actually load them in with the loaders in Daniel's SPOcc repository and then start getting features for them and training a model. But that will be in a separate notebook - here I just want to get all the filepaths. \n",
    "\n",
    "Before I get the RA/dec for all 1997 Kepler EBs, I first just want to try out tesspoint on some random EB. I'll take the first EB from the sector 14 lookup table."
   ]
  },
  {
   "cell_type": "code",
   "execution_count": 3,
   "id": "e90b6398",
   "metadata": {},
   "outputs": [],
   "source": [
    "lookup14_path = '~/tesslcs/sector14lookup.csv'\n",
    "lookup14 = pd.read_csv(lookup14_path,header=None,names=['filename','RA','dec','TIC ID','sector','camera','CCD',\n",
    "    'mag'],index_col=False,dtype={'filename':str,'RA':float,'dec':float,'TIC ID':int,'sector':int,'camera':int,\n",
    "    'CCD':int,'mag':float},skiprows=1)"
   ]
  },
  {
   "cell_type": "code",
   "execution_count": 4,
   "id": "6d1dd32d",
   "metadata": {},
   "outputs": [
    {
     "name": "stdout",
     "output_type": "stream",
     "text": [
      "27693449\n"
     ]
    }
   ],
   "source": [
    "# Now I can access the RA and dec of my example star with lookup14['RA'][0] and lookup14['dec'][0]\n",
    "# Let's print the TIC ID of that star so we can tell if tesspoint gets it right later\n",
    "print(lookup14['TIC ID'][0])"
   ]
  },
  {
   "cell_type": "markdown",
   "id": "ed310671",
   "metadata": {},
   "source": [
    "Now I just need to figure out how to actually pass the RA/dec into tesspoint to get the corresponding TIC ID. The Github page (https://github.com/christopherburke/tess-point) has a few examples, but they're not totally clear. It\n",
    "sounds like you can supply just the RA and dec of a star to get various info about it, including TIC ID, RA, dec (even though you just put those in), ecliptic coordinates, sector, camera, CCD, and column and row in pixels. But\n",
    "you have to supply the TIC ID or some kind of numeric identifier to get that info? But it sounds like you don't need to have the TIC ID in advance, which is good. I'm going to try it out with an example below. I'm going to pass in the RA and dec of my example star and see what happens.\n",
    "\n",
    "After reading about it more here (https://github.com/christopherburke/tess-point/blob/master/example_use_tess_stars2py_byfunction.py), I figured out how it works. You can use tesspoint in your Python program by importing the function they show there, so I just added that to my import cell at the top of this file. And then you can feed in one or multiple targets at a time. The \"TIC ID\" that you pass in doesn't actually get used by the program so it doesn't have to really be the TIC ID, it's just used to identify that star in the output because when you feed in a star, it will return not just one, but _every_ sector/camera/CCD that that star appears in. \n",
    "\n",
    "Let me now try passing in the RA/dec of the first 2 stars from the sector 14 lookup table, and see what I get back. For their TIC IDs, I'll just call them 1 and 2, and if this works then when I go to do this for the entire list of 1997 Kepler EBs, I'll use np.linspace or np.arange to generate IDs from 1 through 1997."
   ]
  },
  {
   "cell_type": "code",
   "execution_count": 16,
   "id": "19a0eaa0",
   "metadata": {},
   "outputs": [],
   "source": [
    "ra = lookup14['RA'][:2]\n",
    "dec = lookup14['dec'][:2]\n",
    "iden = [0,1]\n",
    "outID, outEclipLong, outEclipLat, outSec, outCam, outCcd, outColPix, outRowPix, scinfo = tess_stars2px_function_entry(iden, ra, dec)"
   ]
  },
  {
   "cell_type": "markdown",
   "id": "8e154650",
   "metadata": {},
   "source": [
    "Problem: I'm realizing now that tesspoint doesn't actually give you the TIC ID. So I'm going to need some other way to get the filepaths - either get the TIC ID from someplace else, or find a way to use the lookup tables with just RA and dec."
   ]
  },
  {
   "cell_type": "code",
   "execution_count": 5,
   "id": "e389427d",
   "metadata": {},
   "outputs": [
    {
     "data": {
      "text/html": [
       "<div>\n",
       "<style scoped>\n",
       "    .dataframe tbody tr th:only-of-type {\n",
       "        vertical-align: middle;\n",
       "    }\n",
       "\n",
       "    .dataframe tbody tr th {\n",
       "        vertical-align: top;\n",
       "    }\n",
       "\n",
       "    .dataframe thead th {\n",
       "        text-align: right;\n",
       "    }\n",
       "</style>\n",
       "<table border=\"1\" class=\"dataframe\">\n",
       "  <thead>\n",
       "    <tr style=\"text-align: right;\">\n",
       "      <th></th>\n",
       "      <th>filename</th>\n",
       "      <th>RA</th>\n",
       "      <th>dec</th>\n",
       "      <th>TIC ID</th>\n",
       "      <th>sector</th>\n",
       "      <th>camera</th>\n",
       "      <th>CCD</th>\n",
       "      <th>mag</th>\n",
       "    </tr>\n",
       "  </thead>\n",
       "  <tbody>\n",
       "    <tr>\n",
       "      <th>0</th>\n",
       "      <td>tesslcs_sector_14_104/2_min_cadence_targets/te...</td>\n",
       "      <td>296.037464</td>\n",
       "      <td>52.358691</td>\n",
       "      <td>27693449</td>\n",
       "      <td>14</td>\n",
       "      <td>2</td>\n",
       "      <td>4</td>\n",
       "      <td>9.83679</td>\n",
       "    </tr>\n",
       "    <tr>\n",
       "      <th>1</th>\n",
       "      <td>tesslcs_sector_14_104/2_min_cadence_targets/te...</td>\n",
       "      <td>296.347333</td>\n",
       "      <td>52.487350</td>\n",
       "      <td>27837522</td>\n",
       "      <td>14</td>\n",
       "      <td>2</td>\n",
       "      <td>4</td>\n",
       "      <td>9.59878</td>\n",
       "    </tr>\n",
       "    <tr>\n",
       "      <th>2</th>\n",
       "      <td>tesslcs_sector_14_104/2_min_cadence_targets/te...</td>\n",
       "      <td>296.262922</td>\n",
       "      <td>52.729809</td>\n",
       "      <td>27837873</td>\n",
       "      <td>14</td>\n",
       "      <td>2</td>\n",
       "      <td>4</td>\n",
       "      <td>12.93180</td>\n",
       "    </tr>\n",
       "    <tr>\n",
       "      <th>3</th>\n",
       "      <td>tesslcs_sector_14_104/2_min_cadence_targets/te...</td>\n",
       "      <td>298.571902</td>\n",
       "      <td>53.778422</td>\n",
       "      <td>264393379</td>\n",
       "      <td>14</td>\n",
       "      <td>2</td>\n",
       "      <td>4</td>\n",
       "      <td>11.26480</td>\n",
       "    </tr>\n",
       "    <tr>\n",
       "      <th>4</th>\n",
       "      <td>tesslcs_sector_14_104/2_min_cadence_targets/te...</td>\n",
       "      <td>296.146668</td>\n",
       "      <td>52.858682</td>\n",
       "      <td>27692689</td>\n",
       "      <td>14</td>\n",
       "      <td>2</td>\n",
       "      <td>4</td>\n",
       "      <td>10.99730</td>\n",
       "    </tr>\n",
       "    <tr>\n",
       "      <th>...</th>\n",
       "      <td>...</td>\n",
       "      <td>...</td>\n",
       "      <td>...</td>\n",
       "      <td>...</td>\n",
       "      <td>...</td>\n",
       "      <td>...</td>\n",
       "      <td>...</td>\n",
       "      <td>...</td>\n",
       "    </tr>\n",
       "    <tr>\n",
       "      <th>4009712</th>\n",
       "      <td>tesslcs_sector_14_104/tesslcs_tmag_9_10/tesslc...</td>\n",
       "      <td>266.543113</td>\n",
       "      <td>76.482123</td>\n",
       "      <td>1401093064</td>\n",
       "      <td>14</td>\n",
       "      <td>3</td>\n",
       "      <td>3</td>\n",
       "      <td>9.52726</td>\n",
       "    </tr>\n",
       "    <tr>\n",
       "      <th>4009713</th>\n",
       "      <td>tesslcs_sector_14_104/tesslcs_tmag_9_10/tesslc...</td>\n",
       "      <td>266.545287</td>\n",
       "      <td>76.482495</td>\n",
       "      <td>1401093065</td>\n",
       "      <td>14</td>\n",
       "      <td>3</td>\n",
       "      <td>3</td>\n",
       "      <td>9.65109</td>\n",
       "    </tr>\n",
       "    <tr>\n",
       "      <th>4009714</th>\n",
       "      <td>tesslcs_sector_14_104/tesslcs_tmag_9_10/tesslc...</td>\n",
       "      <td>216.211428</td>\n",
       "      <td>76.585895</td>\n",
       "      <td>156457298</td>\n",
       "      <td>14</td>\n",
       "      <td>3</td>\n",
       "      <td>3</td>\n",
       "      <td>9.82640</td>\n",
       "    </tr>\n",
       "    <tr>\n",
       "      <th>4009715</th>\n",
       "      <td>tesslcs_sector_14_104/tesslcs_tmag_9_10/tesslc...</td>\n",
       "      <td>285.164309</td>\n",
       "      <td>76.615343</td>\n",
       "      <td>420107253</td>\n",
       "      <td>14</td>\n",
       "      <td>3</td>\n",
       "      <td>2</td>\n",
       "      <td>9.95180</td>\n",
       "    </tr>\n",
       "    <tr>\n",
       "      <th>4009716</th>\n",
       "      <td>tesslcs_sector_14_104/tesslcs_tmag_9_10/tesslc...</td>\n",
       "      <td>214.955341</td>\n",
       "      <td>76.700861</td>\n",
       "      <td>524593265</td>\n",
       "      <td>14</td>\n",
       "      <td>3</td>\n",
       "      <td>3</td>\n",
       "      <td>9.58700</td>\n",
       "    </tr>\n",
       "  </tbody>\n",
       "</table>\n",
       "<p>4009717 rows × 8 columns</p>\n",
       "</div>"
      ],
      "text/plain": [
       "                                                  filename          RA  \\\n",
       "0        tesslcs_sector_14_104/2_min_cadence_targets/te...  296.037464   \n",
       "1        tesslcs_sector_14_104/2_min_cadence_targets/te...  296.347333   \n",
       "2        tesslcs_sector_14_104/2_min_cadence_targets/te...  296.262922   \n",
       "3        tesslcs_sector_14_104/2_min_cadence_targets/te...  298.571902   \n",
       "4        tesslcs_sector_14_104/2_min_cadence_targets/te...  296.146668   \n",
       "...                                                    ...         ...   \n",
       "4009712  tesslcs_sector_14_104/tesslcs_tmag_9_10/tesslc...  266.543113   \n",
       "4009713  tesslcs_sector_14_104/tesslcs_tmag_9_10/tesslc...  266.545287   \n",
       "4009714  tesslcs_sector_14_104/tesslcs_tmag_9_10/tesslc...  216.211428   \n",
       "4009715  tesslcs_sector_14_104/tesslcs_tmag_9_10/tesslc...  285.164309   \n",
       "4009716  tesslcs_sector_14_104/tesslcs_tmag_9_10/tesslc...  214.955341   \n",
       "\n",
       "               dec      TIC ID  sector  camera  CCD       mag  \n",
       "0        52.358691    27693449      14       2    4   9.83679  \n",
       "1        52.487350    27837522      14       2    4   9.59878  \n",
       "2        52.729809    27837873      14       2    4  12.93180  \n",
       "3        53.778422   264393379      14       2    4  11.26480  \n",
       "4        52.858682    27692689      14       2    4  10.99730  \n",
       "...            ...         ...     ...     ...  ...       ...  \n",
       "4009712  76.482123  1401093064      14       3    3   9.52726  \n",
       "4009713  76.482495  1401093065      14       3    3   9.65109  \n",
       "4009714  76.585895   156457298      14       3    3   9.82640  \n",
       "4009715  76.615343   420107253      14       3    2   9.95180  \n",
       "4009716  76.700861   524593265      14       3    3   9.58700  \n",
       "\n",
       "[4009717 rows x 8 columns]"
      ]
     },
     "execution_count": 5,
     "metadata": {},
     "output_type": "execute_result"
    }
   ],
   "source": [
    "lookup14"
   ]
  },
  {
   "cell_type": "markdown",
   "id": "fc905e47",
   "metadata": {},
   "source": [
    "OK, this is a bummer but I found a Github repo that seems to be exactly what I want (https://github.com/jradavenport/kic2tic) - the only problem is it has almost no documentation and I question whether it would be accurate. But it has a big CSV file with KIC ID in one column and TIC ID in the other. I'm going to test it out by taking a few (maybe 10) objects from the Kepler catalog and looking them up on SIMBAD to get their TIC IDs, then seeing if they match the one given by the CSV file from this Github repo. Hopefully they do! "
   ]
  },
  {
   "cell_type": "code",
   "execution_count": 6,
   "id": "947dc9c7",
   "metadata": {},
   "outputs": [],
   "source": [
    "# Read in that CSV file\n",
    "kic2tic_path = '~/kic2tic/KIC2TIC.csv'\n",
    "k2t = pd.read_csv(kic2tic_path,header=None,names=['KIC ID','TIC ID'],index_col=False,\n",
    "                  dtype={'KIC ID':int,'TIC ID':int},skiprows=1)"
   ]
  },
  {
   "cell_type": "code",
   "execution_count": 7,
   "id": "78773504",
   "metadata": {},
   "outputs": [
    {
     "data": {
      "text/html": [
       "<div>\n",
       "<style scoped>\n",
       "    .dataframe tbody tr th:only-of-type {\n",
       "        vertical-align: middle;\n",
       "    }\n",
       "\n",
       "    .dataframe tbody tr th {\n",
       "        vertical-align: top;\n",
       "    }\n",
       "\n",
       "    .dataframe thead th {\n",
       "        text-align: right;\n",
       "    }\n",
       "</style>\n",
       "<table border=\"1\" class=\"dataframe\">\n",
       "  <thead>\n",
       "    <tr style=\"text-align: right;\">\n",
       "      <th></th>\n",
       "      <th>KIC ID</th>\n",
       "      <th>TIC ID</th>\n",
       "    </tr>\n",
       "  </thead>\n",
       "  <tbody>\n",
       "    <tr>\n",
       "      <th>0</th>\n",
       "      <td>2285208</td>\n",
       "      <td>120970531</td>\n",
       "    </tr>\n",
       "    <tr>\n",
       "      <th>1</th>\n",
       "      <td>5369520</td>\n",
       "      <td>138426805</td>\n",
       "    </tr>\n",
       "    <tr>\n",
       "      <th>2</th>\n",
       "      <td>6435985</td>\n",
       "      <td>122066934</td>\n",
       "    </tr>\n",
       "    <tr>\n",
       "      <th>3</th>\n",
       "      <td>7975417</td>\n",
       "      <td>272717183</td>\n",
       "    </tr>\n",
       "    <tr>\n",
       "      <th>4</th>\n",
       "      <td>9287814</td>\n",
       "      <td>271164174</td>\n",
       "    </tr>\n",
       "    <tr>\n",
       "      <th>5</th>\n",
       "      <td>2976009</td>\n",
       "      <td>121395656</td>\n",
       "    </tr>\n",
       "    <tr>\n",
       "      <th>6</th>\n",
       "      <td>5567762</td>\n",
       "      <td>172770539</td>\n",
       "    </tr>\n",
       "    <tr>\n",
       "      <th>7</th>\n",
       "      <td>10092003</td>\n",
       "      <td>273378207</td>\n",
       "    </tr>\n",
       "    <tr>\n",
       "      <th>8</th>\n",
       "      <td>3946338</td>\n",
       "      <td>121939328</td>\n",
       "    </tr>\n",
       "    <tr>\n",
       "      <th>9</th>\n",
       "      <td>8160525</td>\n",
       "      <td>159221152</td>\n",
       "    </tr>\n",
       "  </tbody>\n",
       "</table>\n",
       "</div>"
      ],
      "text/plain": [
       "     KIC ID     TIC ID\n",
       "0   2285208  120970531\n",
       "1   5369520  138426805\n",
       "2   6435985  122066934\n",
       "3   7975417  272717183\n",
       "4   9287814  271164174\n",
       "5   2976009  121395656\n",
       "6   5567762  172770539\n",
       "7  10092003  273378207\n",
       "8   3946338  121939328\n",
       "9   8160525  159221152"
      ]
     },
     "execution_count": 7,
     "metadata": {},
     "output_type": "execute_result"
    }
   ],
   "source": [
    "# Print the first 10 IDs from the file\n",
    "k2t[:10]"
   ]
  },
  {
   "cell_type": "markdown",
   "id": "6a7ffcda",
   "metadata": {},
   "source": [
    "Out of the 10 KIC IDs above, 8 of them had the matching TIC ID in SIMBAD, and as for the other 2, SIMBAD couldn't find them based on either the KIC ID or the TIC ID. So I'm feeling a lot more confident now that this CSV file is legit. Let me try another few from somewhere in the middle of the file just to reassure myself. "
   ]
  },
  {
   "cell_type": "code",
   "execution_count": 8,
   "id": "64d45a96",
   "metadata": {},
   "outputs": [
    {
     "data": {
      "text/plain": [
       "199421"
      ]
     },
     "execution_count": 8,
     "metadata": {},
     "output_type": "execute_result"
    }
   ],
   "source": [
    "k2t['KIC ID'].size"
   ]
  },
  {
   "cell_type": "code",
   "execution_count": 9,
   "id": "74ad7b3a",
   "metadata": {},
   "outputs": [
    {
     "data": {
      "text/html": [
       "<div>\n",
       "<style scoped>\n",
       "    .dataframe tbody tr th:only-of-type {\n",
       "        vertical-align: middle;\n",
       "    }\n",
       "\n",
       "    .dataframe tbody tr th {\n",
       "        vertical-align: top;\n",
       "    }\n",
       "\n",
       "    .dataframe thead th {\n",
       "        text-align: right;\n",
       "    }\n",
       "</style>\n",
       "<table border=\"1\" class=\"dataframe\">\n",
       "  <thead>\n",
       "    <tr style=\"text-align: right;\">\n",
       "      <th></th>\n",
       "      <th>KIC ID</th>\n",
       "      <th>TIC ID</th>\n",
       "    </tr>\n",
       "  </thead>\n",
       "  <tbody>\n",
       "    <tr>\n",
       "      <th>85324</th>\n",
       "      <td>5273184</td>\n",
       "      <td>137090434</td>\n",
       "    </tr>\n",
       "    <tr>\n",
       "      <th>85325</th>\n",
       "      <td>10157123</td>\n",
       "      <td>273129783</td>\n",
       "    </tr>\n",
       "    <tr>\n",
       "      <th>85326</th>\n",
       "      <td>4839259</td>\n",
       "      <td>137897159</td>\n",
       "    </tr>\n",
       "    <tr>\n",
       "      <th>85327</th>\n",
       "      <td>8394035</td>\n",
       "      <td>239291099</td>\n",
       "    </tr>\n",
       "    <tr>\n",
       "      <th>85328</th>\n",
       "      <td>5653887</td>\n",
       "      <td>172770809</td>\n",
       "    </tr>\n",
       "  </tbody>\n",
       "</table>\n",
       "</div>"
      ],
      "text/plain": [
       "         KIC ID     TIC ID\n",
       "85324   5273184  137090434\n",
       "85325  10157123  273129783\n",
       "85326   4839259  137897159\n",
       "85327   8394035  239291099\n",
       "85328   5653887  172770809"
      ]
     },
     "execution_count": 9,
     "metadata": {},
     "output_type": "execute_result"
    }
   ],
   "source": [
    "k2t[85324:85329]"
   ]
  },
  {
   "cell_type": "markdown",
   "id": "ebf23ac5",
   "metadata": {},
   "source": [
    "1 of the 5 IDs above wasn't found by SIMBAD, but the other 4 were accurate. I feel good enough to try this out.\n",
    "\n",
    "So the next step is to load in the Kepler EBs Villanova data."
   ]
  },
  {
   "cell_type": "code",
   "execution_count": 10,
   "id": "a0d4ced7",
   "metadata": {},
   "outputs": [],
   "source": [
    "# Load in the Villanova Kepler data\n",
    "kepler_path = '~/berkeley-seti/keplerebs_villanova_kmag_10-15.csv'\n",
    "keplerebs = pd.read_csv(kepler_path,header=None,names=['KIC ID','period','period err','bjd0','bjd0 err',\n",
    "    'morphology','RA','dec','gal lon','gal lat','kmag','Teff','SC'],index_col=False,usecols=['KIC ID','period',\n",
    "    'period err','RA','dec','kmag','Teff'],skiprows=6)"
   ]
  },
  {
   "cell_type": "code",
   "execution_count": 11,
   "id": "4543d826",
   "metadata": {},
   "outputs": [
    {
     "data": {
      "text/html": [
       "<div>\n",
       "<style scoped>\n",
       "    .dataframe tbody tr th:only-of-type {\n",
       "        vertical-align: middle;\n",
       "    }\n",
       "\n",
       "    .dataframe tbody tr th {\n",
       "        vertical-align: top;\n",
       "    }\n",
       "\n",
       "    .dataframe thead th {\n",
       "        text-align: right;\n",
       "    }\n",
       "</style>\n",
       "<table border=\"1\" class=\"dataframe\">\n",
       "  <thead>\n",
       "    <tr style=\"text-align: right;\">\n",
       "      <th></th>\n",
       "      <th>KIC ID</th>\n",
       "      <th>period</th>\n",
       "      <th>period err</th>\n",
       "      <th>RA</th>\n",
       "      <th>dec</th>\n",
       "      <th>kmag</th>\n",
       "      <th>Teff</th>\n",
       "    </tr>\n",
       "  </thead>\n",
       "  <tbody>\n",
       "    <tr>\n",
       "      <th>0</th>\n",
       "      <td>8912468</td>\n",
       "      <td>0.094838</td>\n",
       "      <td>0.000000e+00</td>\n",
       "      <td>300.1156</td>\n",
       "      <td>45.1679</td>\n",
       "      <td>11.751</td>\n",
       "      <td>6194.0</td>\n",
       "    </tr>\n",
       "    <tr>\n",
       "      <th>1</th>\n",
       "      <td>8758716</td>\n",
       "      <td>0.107205</td>\n",
       "      <td>0.000000e+00</td>\n",
       "      <td>293.8519</td>\n",
       "      <td>44.9494</td>\n",
       "      <td>13.531</td>\n",
       "      <td>-1.0</td>\n",
       "    </tr>\n",
       "    <tr>\n",
       "      <th>2</th>\n",
       "      <td>10855535</td>\n",
       "      <td>0.112782</td>\n",
       "      <td>0.000000e+00</td>\n",
       "      <td>289.2119</td>\n",
       "      <td>48.2031</td>\n",
       "      <td>13.870</td>\n",
       "      <td>7555.0</td>\n",
       "    </tr>\n",
       "    <tr>\n",
       "      <th>3</th>\n",
       "      <td>9472174</td>\n",
       "      <td>0.125765</td>\n",
       "      <td>1.000000e-07</td>\n",
       "      <td>294.6359</td>\n",
       "      <td>46.0664</td>\n",
       "      <td>12.264</td>\n",
       "      <td>10645.0</td>\n",
       "    </tr>\n",
       "    <tr>\n",
       "      <th>4</th>\n",
       "      <td>9612468</td>\n",
       "      <td>0.133471</td>\n",
       "      <td>1.000000e-07</td>\n",
       "      <td>299.9821</td>\n",
       "      <td>46.2624</td>\n",
       "      <td>11.531</td>\n",
       "      <td>7202.0</td>\n",
       "    </tr>\n",
       "    <tr>\n",
       "      <th>...</th>\n",
       "      <td>...</td>\n",
       "      <td>...</td>\n",
       "      <td>...</td>\n",
       "      <td>...</td>\n",
       "      <td>...</td>\n",
       "      <td>...</td>\n",
       "      <td>...</td>\n",
       "    </tr>\n",
       "    <tr>\n",
       "      <th>1992</th>\n",
       "      <td>9408440</td>\n",
       "      <td>989.985000</td>\n",
       "      <td>-1.000000e+00</td>\n",
       "      <td>293.5906</td>\n",
       "      <td>45.9317</td>\n",
       "      <td>13.199</td>\n",
       "      <td>5688.0</td>\n",
       "    </tr>\n",
       "    <tr>\n",
       "      <th>1993</th>\n",
       "      <td>8054233</td>\n",
       "      <td>1058.000000</td>\n",
       "      <td>-1.000000e+00</td>\n",
       "      <td>299.2436</td>\n",
       "      <td>43.8144</td>\n",
       "      <td>11.783</td>\n",
       "      <td>4733.0</td>\n",
       "    </tr>\n",
       "    <tr>\n",
       "      <th>1994</th>\n",
       "      <td>7672940</td>\n",
       "      <td>1064.270000</td>\n",
       "      <td>-1.000000e+00</td>\n",
       "      <td>288.2586</td>\n",
       "      <td>43.3765</td>\n",
       "      <td>12.328</td>\n",
       "      <td>-1.0</td>\n",
       "    </tr>\n",
       "    <tr>\n",
       "      <th>1995</th>\n",
       "      <td>11961695</td>\n",
       "      <td>1082.815000</td>\n",
       "      <td>-1.000000e+00</td>\n",
       "      <td>290.6239</td>\n",
       "      <td>50.3904</td>\n",
       "      <td>13.718</td>\n",
       "      <td>5768.0</td>\n",
       "    </tr>\n",
       "    <tr>\n",
       "      <th>1996</th>\n",
       "      <td>4360072</td>\n",
       "      <td>1087.300000</td>\n",
       "      <td>-1.000000e+00</td>\n",
       "      <td>290.1413</td>\n",
       "      <td>39.4819</td>\n",
       "      <td>11.159</td>\n",
       "      <td>4950.0</td>\n",
       "    </tr>\n",
       "  </tbody>\n",
       "</table>\n",
       "<p>1997 rows × 7 columns</p>\n",
       "</div>"
      ],
      "text/plain": [
       "        KIC ID       period    period err        RA      dec    kmag     Teff\n",
       "0      8912468     0.094838  0.000000e+00  300.1156  45.1679  11.751   6194.0\n",
       "1      8758716     0.107205  0.000000e+00  293.8519  44.9494  13.531     -1.0\n",
       "2     10855535     0.112782  0.000000e+00  289.2119  48.2031  13.870   7555.0\n",
       "3      9472174     0.125765  1.000000e-07  294.6359  46.0664  12.264  10645.0\n",
       "4      9612468     0.133471  1.000000e-07  299.9821  46.2624  11.531   7202.0\n",
       "...        ...          ...           ...       ...      ...     ...      ...\n",
       "1992   9408440   989.985000 -1.000000e+00  293.5906  45.9317  13.199   5688.0\n",
       "1993   8054233  1058.000000 -1.000000e+00  299.2436  43.8144  11.783   4733.0\n",
       "1994   7672940  1064.270000 -1.000000e+00  288.2586  43.3765  12.328     -1.0\n",
       "1995  11961695  1082.815000 -1.000000e+00  290.6239  50.3904  13.718   5768.0\n",
       "1996   4360072  1087.300000 -1.000000e+00  290.1413  39.4819  11.159   4950.0\n",
       "\n",
       "[1997 rows x 7 columns]"
      ]
     },
     "execution_count": 11,
     "metadata": {},
     "output_type": "execute_result"
    }
   ],
   "source": [
    "keplerebs"
   ]
  },
  {
   "cell_type": "markdown",
   "id": "04287ca6",
   "metadata": {},
   "source": [
    "And now I want to loop through all 1997 of these EBs and for each one, search for the KIC ID in the k2t dataframe and get the corresponding TIC ID."
   ]
  },
  {
   "cell_type": "code",
   "execution_count": 15,
   "id": "6fa4a53b",
   "metadata": {},
   "outputs": [
    {
     "data": {
      "text/plain": [
       "array([1992])"
      ]
     },
     "execution_count": 15,
     "metadata": {},
     "output_type": "execute_result"
    }
   ],
   "source": [
    "# Can we use np.where on a pandas Series?\n",
    "np.where(keplerebs['KIC ID'] == 9408440)[0]"
   ]
  },
  {
   "cell_type": "markdown",
   "id": "fc1bbe06",
   "metadata": {},
   "source": [
    "I can! That should make things easier. I have the KIC IDs in the k2t dataframe. As a side note, I contacted Jim Davenport, the man who wrote the kic2tic Github repository that I got this CSV file from. He said it should work fine for my purposes, with the caveat that it might only include the 2-minute cadence targets. I'll see if that's true or not by seeing how many of my 1997 EBs it finds in that list. Let's go!"
   ]
  },
  {
   "cell_type": "code",
   "execution_count": 18,
   "id": "3946f561",
   "metadata": {},
   "outputs": [
    {
     "name": "stdout",
     "output_type": "stream",
     "text": [
      "Number not found: 0\n"
     ]
    }
   ],
   "source": [
    "ticids = []\n",
    "not_found_counter = 0 # Will count how many KIC IDs aren't found in the k2t dataframe\n",
    "for kicid in keplerebs['KIC ID']:\n",
    "    inds = np.where(k2t['KIC ID'] == kicid)[0]\n",
    "    if inds.size == 0:\n",
    "        not_found_counter += 1\n",
    "        continue\n",
    "    elif inds.size > 1:\n",
    "        print('More than one line present for KIC ID ' + str(kicid))\n",
    "    ticids.append(k2t['TIC ID'][inds[0]]) # Add the 1st TIC ID to the list (presumably it will be the only TIC ID)\n",
    "print('Number not found: ' + str(not_found_counter))"
   ]
  },
  {
   "cell_type": "code",
   "execution_count": 20,
   "id": "4a338eca",
   "metadata": {},
   "outputs": [
    {
     "data": {
      "text/plain": [
       "[239276223, 270700726, 299157009, 271164763, 239233211]"
      ]
     },
     "execution_count": 20,
     "metadata": {},
     "output_type": "execute_result"
    }
   ],
   "source": [
    "ticids[:5]"
   ]
  },
  {
   "cell_type": "code",
   "execution_count": 22,
   "id": "09e40aca",
   "metadata": {},
   "outputs": [
    {
     "name": "stdout",
     "output_type": "stream",
     "text": [
      "1997\n"
     ]
    }
   ],
   "source": [
    "print(len(ticids))"
   ]
  },
  {
   "cell_type": "markdown",
   "id": "3c23ca1f",
   "metadata": {},
   "source": [
    "Let's go! It worked, and every EB was found! So now I have a list of 1997 TIC IDs, each corresponding to a confirmed eclipsing binary. Now I need to take these TIC IDs and figure out which ones are in sector 14, and for the ones that are, get their filepaths.\n",
    "\n",
    "I'm going to want to loop through the sector 14 lookup table, and for each star in there, see if it's in my \"ticids\" list. If it is, I'll pull out the whole line and store it in a separate dataframe, then save that to a file."
   ]
  },
  {
   "cell_type": "code",
   "execution_count": 25,
   "id": "6ee81e76",
   "metadata": {},
   "outputs": [],
   "source": [
    "sector_14_eb_indices = []\n",
    "for lookup_index, ticid in enumerate(lookup14['TIC ID']):\n",
    "    inds = np.where(ticids == ticid)[0]\n",
    "    if inds.size == 0:\n",
    "        continue\n",
    "    elif inds.size > 1:\n",
    "        print('More than one line present in ticids for TIC ID ' + str(ticid) + ' - this means that 2 KIC IDs point to the same TIC ID in k2t')\n",
    "    sector_14_eb_indices.append(lookup_index) # This time I am just appending the index so I can then make a new df"
   ]
  },
  {
   "cell_type": "code",
   "execution_count": 26,
   "id": "ecd70ebf",
   "metadata": {},
   "outputs": [
    {
     "data": {
      "text/plain": [
       "0"
      ]
     },
     "execution_count": 26,
     "metadata": {},
     "output_type": "execute_result"
    }
   ],
   "source": [
    "len(sector_14_eb_indices)"
   ]
  },
  {
   "cell_type": "markdown",
   "id": "be74df30",
   "metadata": {},
   "source": [
    "Hmm...why are there none showing up in sector 14? Not what I expected at all. "
   ]
  },
  {
   "cell_type": "code",
   "execution_count": 27,
   "id": "1ff67c35",
   "metadata": {},
   "outputs": [
    {
     "data": {
      "text/plain": [
       "0            27693449\n",
       "1            27837522\n",
       "2            27837873\n",
       "3           264393379\n",
       "4            27692689\n",
       "              ...    \n",
       "4009712    1401093064\n",
       "4009713    1401093065\n",
       "4009714     156457298\n",
       "4009715     420107253\n",
       "4009716     524593265\n",
       "Name: TIC ID, Length: 4009717, dtype: int64"
      ]
     },
     "execution_count": 27,
     "metadata": {},
     "output_type": "execute_result"
    }
   ],
   "source": [
    "lookup14['TIC ID']"
   ]
  },
  {
   "cell_type": "code",
   "execution_count": 29,
   "id": "e7950f1a",
   "metadata": {},
   "outputs": [],
   "source": [
    "# Let's try using tesspoint to get the (TESS) sector of all my Kepler EBs - I'll see what looks most common\n",
    "ra = keplerebs['RA']\n",
    "dec = keplerebs['dec']\n",
    "iden = np.linspace(0,1996,num=1997)\n",
    "outID, outEclipLong, outEclipLat, outSec, outCam, outCcd, outColPix, outRowPix, scinfo = tess_stars2px_function_entry(iden, ra, dec)"
   ]
  },
  {
   "cell_type": "code",
   "execution_count": 30,
   "id": "ee9eab03",
   "metadata": {},
   "outputs": [
    {
     "data": {
      "text/plain": [
       "array([14, 15, 41, ..., 41, 54, 55])"
      ]
     },
     "execution_count": 30,
     "metadata": {},
     "output_type": "execute_result"
    }
   ],
   "source": [
    "outSec"
   ]
  },
  {
   "cell_type": "code",
   "execution_count": 38,
   "id": "c8c2df38",
   "metadata": {},
   "outputs": [
    {
     "data": {
      "text/plain": [
       "array([0, 0, 0, 0, 0])"
      ]
     },
     "execution_count": 38,
     "metadata": {},
     "output_type": "execute_result"
    }
   ],
   "source": [
    "outID[:5]"
   ]
  },
  {
   "cell_type": "code",
   "execution_count": 31,
   "id": "6f40942b",
   "metadata": {},
   "outputs": [
    {
     "data": {
      "text/plain": [
       "1885"
      ]
     },
     "execution_count": 31,
     "metadata": {},
     "output_type": "execute_result"
    }
   ],
   "source": [
    "np.where(outSec==14)[0].size"
   ]
  },
  {
   "cell_type": "markdown",
   "id": "38252e8d",
   "metadata": {},
   "source": [
    "It seems based on that like 1885 of my 1997 Kepler EBs actually are in sector 14, which is a relief. But why is that not showing up in what I did? \n",
    "\n",
    "Let me check, since tesspoint says that the very first EB I gave it (the first one in keplerebs, and therefore the first one in the ticids list) is in sector 14, let me check and see if that star's TIC ID shows up anywhere in the lookup table. If not, I'll know there's some sort of problem."
   ]
  },
  {
   "cell_type": "code",
   "execution_count": 39,
   "id": "069d2c8b",
   "metadata": {},
   "outputs": [
    {
     "data": {
      "text/plain": [
       "array([8889])"
      ]
     },
     "execution_count": 39,
     "metadata": {},
     "output_type": "execute_result"
    }
   ],
   "source": [
    "np.where(lookup14['TIC ID'] == ticids[0])[0]"
   ]
  },
  {
   "cell_type": "markdown",
   "id": "68a834a2",
   "metadata": {},
   "source": [
    "Good news, the first TIC ID in ticids is actually in the lookup table. So it must just be some bug in my code that led to me not getting any sector 14 ones before."
   ]
  },
  {
   "cell_type": "code",
   "execution_count": 42,
   "id": "20637855",
   "metadata": {},
   "outputs": [
    {
     "name": "stdout",
     "output_type": "stream",
     "text": [
      "More than one line present in ticids for TIC ID 121121622 - this means that 2 KIC IDs point to the same TIC ID in k2t\n",
      "More than one line present in ticids for TIC ID 63366439 - this means that 2 KIC IDs point to the same TIC ID in k2t\n",
      "More than one line present in ticids for TIC ID 273379486 - this means that 2 KIC IDs point to the same TIC ID in k2t\n",
      "More than one line present in ticids for TIC ID 120499724 - this means that 2 KIC IDs point to the same TIC ID in k2t\n",
      "More than one line present in ticids for TIC ID 270782003 - this means that 2 KIC IDs point to the same TIC ID in k2t\n",
      "More than one line present in ticids for TIC ID 272177504 - this means that 2 KIC IDs point to the same TIC ID in k2t\n",
      "More than one line present in ticids for TIC ID 243271716 - this means that 2 KIC IDs point to the same TIC ID in k2t\n",
      "More than one line present in ticids for TIC ID 158489694 - this means that 2 KIC IDs point to the same TIC ID in k2t\n"
     ]
    }
   ],
   "source": [
    "# I think the problem might be that ticids is a list and not an array. Let me convert it and try again:\n",
    "ticids = np.asarray(ticids)\n",
    "sector_14_eb_indices = []\n",
    "for lookup_index, ticid in enumerate(lookup14['TIC ID']):\n",
    "    inds = np.where(ticids == ticid)[0]\n",
    "    if inds.size == 0:\n",
    "        continue\n",
    "    elif inds.size > 1:\n",
    "        print('More than one line present in ticids for TIC ID ' + str(ticid) + ' - this means that 2 KIC IDs point to the same TIC ID in k2t')\n",
    "    sector_14_eb_indices.append(lookup_index) # This time I am just appending the index so I can then make a new df"
   ]
  },
  {
   "cell_type": "code",
   "execution_count": 43,
   "id": "efd81c5a",
   "metadata": {},
   "outputs": [
    {
     "data": {
      "text/plain": [
       "1809"
      ]
     },
     "execution_count": 43,
     "metadata": {},
     "output_type": "execute_result"
    }
   ],
   "source": [
    "len(sector_14_eb_indices)"
   ]
  },
  {
   "cell_type": "markdown",
   "id": "b73c7303",
   "metadata": {},
   "source": [
    "This seems a lot better, but I'm surprised that there were times where TIC IDs showed up multiple times in ticids. "
   ]
  },
  {
   "cell_type": "code",
   "execution_count": 44,
   "id": "1830161d",
   "metadata": {},
   "outputs": [
    {
     "data": {
      "text/plain": [
       "array([1127, 1134])"
      ]
     },
     "execution_count": 44,
     "metadata": {},
     "output_type": "execute_result"
    }
   ],
   "source": [
    "np.where(ticids == 121121622)[0]"
   ]
  },
  {
   "cell_type": "code",
   "execution_count": 48,
   "id": "486f109d",
   "metadata": {},
   "outputs": [
    {
     "data": {
      "text/plain": [
       "array([47384])"
      ]
     },
     "execution_count": 48,
     "metadata": {},
     "output_type": "execute_result"
    }
   ],
   "source": [
    "np.where(k2t['TIC ID'] == 121121622)[0]"
   ]
  },
  {
   "cell_type": "code",
   "execution_count": 49,
   "id": "d4736b1a",
   "metadata": {},
   "outputs": [
    {
     "data": {
      "text/plain": [
       "1125     7695093\n",
       "1126     9835416\n",
       "1127     4247791\n",
       "1128    10149845\n",
       "1129     9881258\n",
       "1130     4059656\n",
       "1131     8621026\n",
       "1132    10480952\n",
       "1133     8230809\n",
       "1134     4247791\n",
       "Name: KIC ID, dtype: int64"
      ]
     },
     "execution_count": 49,
     "metadata": {},
     "output_type": "execute_result"
    }
   ],
   "source": [
    "# Interesting, so this TIC ID shows up twice in ticids, indicating two entries in the Kepler KIC ID list map to it\n",
    "# through k2t, but it only shows up once in k2t, which would seem to mean that there are 2 entries of the same\n",
    "# KIC ID (same star) in the Kepler EBs dataset - let's see if that's the case\n",
    "keplerebs['KIC ID'][1125:1135]"
   ]
  },
  {
   "cell_type": "markdown",
   "id": "7efc1c98",
   "metadata": {},
   "source": [
    "I can see that is the case - the KIC ID 4247791 is repeated. I'm guessing this is why the other 7 TIC IDs got flagged for showing up multiple times too (above).\n",
    "\n",
    "One thing I haven't checked yet is whether there are any duplicate TIC IDs in the lookup table, because if there are, that would make two different lookup_index's get appended to the sector_14_eb_indices list when they really only represent one EB (making it look like I have more unique EBs than I really do). But I guess I could filter those out just from the sector_14_eb_indices list by running some kind of duplicate removal function.\n",
    "\n",
    "The duplicates in the ticids list (which, as mentioned in the first paragraph of this cell, above, come from duplicate KIC IDs on the Villanova site) shouldn't be a problem because I'm only appending the lookup_index in the lookup table file, so only one number gets recorded per EB."
   ]
  },
  {
   "cell_type": "code",
   "execution_count": 50,
   "id": "f86a5366",
   "metadata": {},
   "outputs": [
    {
     "name": "stdout",
     "output_type": "stream",
     "text": [
      "1809\n"
     ]
    }
   ],
   "source": [
    "# Let's remove duplicates from sector_14_eb_indices\n",
    "# According to this StackOverflow post, I can use set() to make a list into a set (thereby eliminating duplicates),\n",
    "# then use list() on that set to convert it back into a set. Note however that order is not preserved - but for me\n",
    "# that shouldn't be an issue\n",
    "sector_14_eb_indices_unique = list(set(sector_14_eb_indices))\n",
    "print(len(sector_14_eb_indices_unique))"
   ]
  },
  {
   "cell_type": "markdown",
   "id": "42b3265c",
   "metadata": {},
   "source": [
    "Nice - there were no duplicates in this list, which means there are no duplicates in the lookup table. So now I have 1809 indices in my lookup14 dataframe, and I can pull those out to get the filenames of these light curves. I think it's just about time for me to record them to a file, then start a new notebook for the actual lightcurve manipulation."
   ]
  },
  {
   "cell_type": "code",
   "execution_count": 59,
   "id": "7c426044",
   "metadata": {},
   "outputs": [
    {
     "data": {
      "text/html": [
       "<div>\n",
       "<style scoped>\n",
       "    .dataframe tbody tr th:only-of-type {\n",
       "        vertical-align: middle;\n",
       "    }\n",
       "\n",
       "    .dataframe tbody tr th {\n",
       "        vertical-align: top;\n",
       "    }\n",
       "\n",
       "    .dataframe thead th {\n",
       "        text-align: right;\n",
       "    }\n",
       "</style>\n",
       "<table border=\"1\" class=\"dataframe\">\n",
       "  <thead>\n",
       "    <tr style=\"text-align: right;\">\n",
       "      <th></th>\n",
       "      <th>filename</th>\n",
       "      <th>RA</th>\n",
       "      <th>dec</th>\n",
       "      <th>TIC ID</th>\n",
       "      <th>sector</th>\n",
       "      <th>camera</th>\n",
       "      <th>CCD</th>\n",
       "      <th>mag</th>\n",
       "    </tr>\n",
       "  </thead>\n",
       "  <tbody>\n",
       "    <tr>\n",
       "      <th>1417218</th>\n",
       "      <td>tesslcs_sector_14_104/tesslcs_tmag_13_14/tessl...</td>\n",
       "      <td>284.417796</td>\n",
       "      <td>48.680907</td>\n",
       "      <td>267667898</td>\n",
       "      <td>14</td>\n",
       "      <td>2</td>\n",
       "      <td>3</td>\n",
       "      <td>13.4082</td>\n",
       "    </tr>\n",
       "    <tr>\n",
       "      <th>8197</th>\n",
       "      <td>tesslcs_sector_14_104/2_min_cadence_targets/te...</td>\n",
       "      <td>298.828625</td>\n",
       "      <td>44.489136</td>\n",
       "      <td>268305489</td>\n",
       "      <td>14</td>\n",
       "      <td>2</td>\n",
       "      <td>4</td>\n",
       "      <td>10.8095</td>\n",
       "    </tr>\n",
       "    <tr>\n",
       "      <th>1785863</th>\n",
       "      <td>tesslcs_sector_14_104/tesslcs_tmag_13_14/tessl...</td>\n",
       "      <td>296.839695</td>\n",
       "      <td>43.408060</td>\n",
       "      <td>272716209</td>\n",
       "      <td>14</td>\n",
       "      <td>2</td>\n",
       "      <td>4</td>\n",
       "      <td>13.2177</td>\n",
       "    </tr>\n",
       "    <tr>\n",
       "      <th>557064</th>\n",
       "      <td>tesslcs_sector_14_104/tesslcs_tmag_12_13/tessl...</td>\n",
       "      <td>300.975737</td>\n",
       "      <td>44.112761</td>\n",
       "      <td>185057845</td>\n",
       "      <td>14</td>\n",
       "      <td>2</td>\n",
       "      <td>4</td>\n",
       "      <td>12.4576</td>\n",
       "    </tr>\n",
       "    <tr>\n",
       "      <th>1335315</th>\n",
       "      <td>tesslcs_sector_14_104/tesslcs_tmag_13_14/tessl...</td>\n",
       "      <td>295.940920</td>\n",
       "      <td>44.578345</td>\n",
       "      <td>271970252</td>\n",
       "      <td>14</td>\n",
       "      <td>2</td>\n",
       "      <td>4</td>\n",
       "      <td>13.5418</td>\n",
       "    </tr>\n",
       "    <tr>\n",
       "      <th>...</th>\n",
       "      <td>...</td>\n",
       "      <td>...</td>\n",
       "      <td>...</td>\n",
       "      <td>...</td>\n",
       "      <td>...</td>\n",
       "      <td>...</td>\n",
       "      <td>...</td>\n",
       "      <td>...</td>\n",
       "    </tr>\n",
       "    <tr>\n",
       "      <th>3850193</th>\n",
       "      <td>tesslcs_sector_14_104/tesslcs_tmag_14_15/tessl...</td>\n",
       "      <td>279.856103</td>\n",
       "      <td>43.667885</td>\n",
       "      <td>383752517</td>\n",
       "      <td>14</td>\n",
       "      <td>2</td>\n",
       "      <td>3</td>\n",
       "      <td>14.2124</td>\n",
       "    </tr>\n",
       "    <tr>\n",
       "      <th>450534</th>\n",
       "      <td>tesslcs_sector_14_104/tesslcs_tmag_12_13/tessl...</td>\n",
       "      <td>287.856867</td>\n",
       "      <td>44.102747</td>\n",
       "      <td>158629066</td>\n",
       "      <td>14</td>\n",
       "      <td>2</td>\n",
       "      <td>3</td>\n",
       "      <td>12.2402</td>\n",
       "    </tr>\n",
       "    <tr>\n",
       "      <th>696308</th>\n",
       "      <td>tesslcs_sector_14_104/tesslcs_tmag_12_13/tessl...</td>\n",
       "      <td>295.573993</td>\n",
       "      <td>39.700610</td>\n",
       "      <td>184089092</td>\n",
       "      <td>14</td>\n",
       "      <td>1</td>\n",
       "      <td>1</td>\n",
       "      <td>12.5710</td>\n",
       "    </tr>\n",
       "    <tr>\n",
       "      <th>1679358</th>\n",
       "      <td>tesslcs_sector_14_104/tesslcs_tmag_13_14/tessl...</td>\n",
       "      <td>288.869256</td>\n",
       "      <td>47.369978</td>\n",
       "      <td>158840322</td>\n",
       "      <td>14</td>\n",
       "      <td>2</td>\n",
       "      <td>3</td>\n",
       "      <td>13.7675</td>\n",
       "    </tr>\n",
       "    <tr>\n",
       "      <th>2629631</th>\n",
       "      <td>tesslcs_sector_14_104/tesslcs_tmag_14_15/tessl...</td>\n",
       "      <td>288.160664</td>\n",
       "      <td>40.878896</td>\n",
       "      <td>121464564</td>\n",
       "      <td>14</td>\n",
       "      <td>2</td>\n",
       "      <td>3</td>\n",
       "      <td>14.0401</td>\n",
       "    </tr>\n",
       "  </tbody>\n",
       "</table>\n",
       "<p>1809 rows × 8 columns</p>\n",
       "</div>"
      ],
      "text/plain": [
       "                                                  filename          RA  \\\n",
       "1417218  tesslcs_sector_14_104/tesslcs_tmag_13_14/tessl...  284.417796   \n",
       "8197     tesslcs_sector_14_104/2_min_cadence_targets/te...  298.828625   \n",
       "1785863  tesslcs_sector_14_104/tesslcs_tmag_13_14/tessl...  296.839695   \n",
       "557064   tesslcs_sector_14_104/tesslcs_tmag_12_13/tessl...  300.975737   \n",
       "1335315  tesslcs_sector_14_104/tesslcs_tmag_13_14/tessl...  295.940920   \n",
       "...                                                    ...         ...   \n",
       "3850193  tesslcs_sector_14_104/tesslcs_tmag_14_15/tessl...  279.856103   \n",
       "450534   tesslcs_sector_14_104/tesslcs_tmag_12_13/tessl...  287.856867   \n",
       "696308   tesslcs_sector_14_104/tesslcs_tmag_12_13/tessl...  295.573993   \n",
       "1679358  tesslcs_sector_14_104/tesslcs_tmag_13_14/tessl...  288.869256   \n",
       "2629631  tesslcs_sector_14_104/tesslcs_tmag_14_15/tessl...  288.160664   \n",
       "\n",
       "               dec     TIC ID  sector  camera  CCD      mag  \n",
       "1417218  48.680907  267667898      14       2    3  13.4082  \n",
       "8197     44.489136  268305489      14       2    4  10.8095  \n",
       "1785863  43.408060  272716209      14       2    4  13.2177  \n",
       "557064   44.112761  185057845      14       2    4  12.4576  \n",
       "1335315  44.578345  271970252      14       2    4  13.5418  \n",
       "...            ...        ...     ...     ...  ...      ...  \n",
       "3850193  43.667885  383752517      14       2    3  14.2124  \n",
       "450534   44.102747  158629066      14       2    3  12.2402  \n",
       "696308   39.700610  184089092      14       1    1  12.5710  \n",
       "1679358  47.369978  158840322      14       2    3  13.7675  \n",
       "2629631  40.878896  121464564      14       2    3  14.0401  \n",
       "\n",
       "[1809 rows x 8 columns]"
      ]
     },
     "execution_count": 59,
     "metadata": {},
     "output_type": "execute_result"
    }
   ],
   "source": [
    "cleaned_sector_14_eb_array = lookup14.iloc[sector_14_eb_indices_unique]\n",
    "cleaned_sector_14_eb_array"
   ]
  },
  {
   "cell_type": "markdown",
   "id": "06132278",
   "metadata": {},
   "source": [
    "Awesome - now all I need to do is write this dataframe to a file and I should be good to move on."
   ]
  },
  {
   "cell_type": "code",
   "execution_count": 60,
   "id": "f55f7e49",
   "metadata": {},
   "outputs": [],
   "source": [
    "# I set index=False because I don't care about saving the indices (the numbers in bold in the dataframe above) - \n",
    "# these are just the indices of the relevant EBs within the lookup table, which is now irrelevant info\n",
    "cleaned_sector_14_eb_array.to_csv('cleaned_sector_14_ebs_filepaths.csv',index=False)"
   ]
  },
  {
   "cell_type": "markdown",
   "id": "f53b501b",
   "metadata": {},
   "source": [
    "And I now have 1809 EBs with filepath and camera info recorded in the file '~/berkeley-seti/cleaned_sector_14_ebs_filepaths.csv'."
   ]
  }
 ],
 "metadata": {
  "kernelspec": {
   "display_name": "Python 3",
   "language": "python",
   "name": "python3"
  },
  "language_info": {
   "codemirror_mode": {
    "name": "ipython",
    "version": 3
   },
   "file_extension": ".py",
   "mimetype": "text/x-python",
   "name": "python",
   "nbconvert_exporter": "python",
   "pygments_lexer": "ipython3",
   "version": "3.7.10"
  }
 },
 "nbformat": 4,
 "nbformat_minor": 5
}
